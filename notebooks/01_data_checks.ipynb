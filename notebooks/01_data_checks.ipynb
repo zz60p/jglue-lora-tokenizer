{
  "nbformat": 4,
  "nbformat_minor": 5,
  "metadata": {},
  "cells": [
    {
      "cell_type": "code",
      "metadata": {},
      "source": "# JGLUE Data Checks\n!python --version\n!pip list | grep -E \"datasets|transformers|peft|fugashi|SudachiPy\" || true",
      "outputs": [],
      "execution_count": null
    },
    {
      "cell_type": "code",
      "metadata": {},
      "source": "from datasets import load_dataset\njnli = load_dataset('shunk031/JGLUE','JNLI')\njsquad = load_dataset('shunk031/JGLUE','JSQuAD')\nprint(jnli, jsquad)",
      "outputs": [],
      "execution_count": null
    },
    {
      "cell_type": "code",
      "metadata": {},
      "source": "# Label distribution for JNLI\nfrom collections import Counter\ndist = Counter(int(x['label']) for x in jnli['train'])\ndist, {k: v/len(jnli['train']) for k,v in dist.items()}",
      "outputs": [],
      "execution_count": null
    },
    {
      "cell_type": "code",
      "metadata": {},
      "source": "# JSQuAD answer length stats\nimport numpy as np\nans_lens = [len(x['answers']['text'][0]) if x['answers']['text'] else 0 for x in jsquad['train']]\nfloat(np.mean(ans_lens)), float(np.percentile(ans_lens, 95))",
      "outputs": [],
      "execution_count": null
    }
  ]
}