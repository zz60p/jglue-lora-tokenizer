{
  "nbformat": 4,
  "nbformat_minor": 5,
  "metadata": {},
  "cells": [
    {
      "cell_type": "code",
      "metadata": {},
      "source": "# Tokenizer Probing\nfrom fugashi import Tagger\nfrom sudachipy import dictionary, tokenizer as tknz\ntext = '本日は晴天なり。LLMの分かち書きを試します。'\nprint(\"Text:\", text)",
      "outputs": [],
      "execution_count": null
    },
    {
      "cell_type": "code",
      "metadata": {},
      "source": "# MeCab/fugashi\ntagger = Tagger()\n[f.surface for f in tagger(text)]",
      "outputs": [],
      "execution_count": null
    },
    {
      "cell_type": "code",
      "metadata": {},
      "source": "# SudachiPy A/B/C\ntk = dictionary.Dictionary().create()\nfor mode in [tknz.Tokenizer.SplitMode.A, tknz.Tokenizer.SplitMode.B, tknz.Tokenizer.SplitMode.C]:\n    print(mode, [m.surface() for m in tk.tokenize(text, mode)])",
      "outputs": [],
      "execution_count": null
    }
  ]
}