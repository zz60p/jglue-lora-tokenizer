{
  "nbformat": 4,
  "nbformat_minor": 5,
  "metadata": {},
  "cells": [
    {
      "cell_type": "code",
      "metadata": {},
      "source": "\n# 00: 环境与加载器自检（可重复执行）\nimport sys, os, json, platform, subprocess, torch\nprint(\"Python:\", sys.version)\nprint(\"CUDA available:\", torch.cuda.is_available())\nprint(\"GPU name:\", torch.cuda.get_device_name(0) if torch.cuda.is_available() else \"CPU\")\nprint(\"pip freeze (key pkgs):\")\nimport importlib, pkgutil\nfor name in [\"datasets\",\"transformers\",\"peft\",\"bitsandbytes\",\"fugashi\",\"SudachiPy\",\"sudachidict_core\",\"huggingface_hub\"]:\n    try:\n        mod = importlib.import_module(name)\n        print(f\"  {name}:\", getattr(mod, \"__version__\", \"n/a\"))\n    except Exception as e:\n        print(f\"  {name}: MISSING -> {e}\")\n",
      "outputs": [],
      "execution_count": null
    },
    {
      "cell_type": "code",
      "metadata": {},
      "source": "\n# 01: 安装缺失的日语分词依赖（安全可重复）\n!pip -q install fugashi unidic-lite SudachiPy sudachidict-core sentencepiece > /dev/null\nimport fugashi, sudachipy\nprint(\"fugashi/SudachiPy installed OK.\")\n",
      "outputs": [],
      "execution_count": null
    },
    {
      "cell_type": "code",
      "metadata": {},
      "source": "\n# 02: 修正 sys.path，保证 `src` 可导入（避免 No module named 'src'）\nimport sys, os\nrepo_root = os.path.abspath(\".\")\nif repo_root not in sys.path:\n    sys.path.append(repo_root)\nprint(\"sys.path ok:\", repo_root in sys.path)\n",
      "outputs": [],
      "execution_count": null
    },
    {
      "cell_type": "code",
      "metadata": {},
      "source": "\n# 03: 验证我们自带的 parquet 加载器能工作，并打印 commit\nfrom src.data.load_jglue import load_jnli, load_jsquad\nfrom importlib import import_module\nlj = import_module(\"src.data.load_jglue\")\nprint(\"JGLUE COMMIT:\", getattr(lj, \"COMMIT\", \"N/A\"))\n\nds_jnli_val = load_jnli(\"validation\"); ds_js_val = load_jsquad(\"validation\")\nprint(\"JNLI val size:\", len(ds_jnli_val))\nprint(\"JSQuAD val size:\", len(ds_js_val))\nassert len(ds_jnli_val) > 1000 and len(ds_js_val) > 1000, \"Dataset sizes look too small—check network/HF 可用性\"\n",
      "outputs": [],
      "execution_count": null
    },
    {
      "cell_type": "code",
      "metadata": {},
      "source": "\n# 04: 运行基线 sanity（不训练）\n!python -m src.eval.jnli_eval --split validation\n!python -m src.eval.jsquad_eval --split validation\nprint(\"Sanity baselines done.\")\n",
      "outputs": [],
      "execution_count": null
    }
  ]
}